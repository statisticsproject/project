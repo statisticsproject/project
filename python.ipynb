{
 "cells": [
  {
   "cell_type": "code",
   "execution_count": 1,
   "metadata": {},
   "outputs": [],
   "source": [
    "import pandas as pd\n",
    "import numpy as np\n",
    "import statsmodels.api as sm\n",
    "import statsmodels.formula.api as smf\n",
    "import warnings\n",
    "warnings.filterwarnings('ignore')"
   ]
  },
  {
   "cell_type": "code",
   "execution_count": 2,
   "metadata": {},
   "outputs": [],
   "source": [
    "dt_train = pd.read_csv(\"data_train.csv\")"
   ]
  },
  {
   "cell_type": "code",
   "execution_count": 3,
   "metadata": {},
   "outputs": [
    {
     "data": {
      "text/html": [
       "<div>\n",
       "<style scoped>\n",
       "    .dataframe tbody tr th:only-of-type {\n",
       "        vertical-align: middle;\n",
       "    }\n",
       "\n",
       "    .dataframe tbody tr th {\n",
       "        vertical-align: top;\n",
       "    }\n",
       "\n",
       "    .dataframe thead th {\n",
       "        text-align: right;\n",
       "    }\n",
       "</style>\n",
       "<table border=\"1\" class=\"dataframe\">\n",
       "  <thead>\n",
       "    <tr style=\"text-align: right;\">\n",
       "      <th></th>\n",
       "      <th>OrderId</th>\n",
       "      <th>StoreId</th>\n",
       "      <th>OrderPrice</th>\n",
       "      <th>DeliveryType</th>\n",
       "      <th>OrdersInQueue</th>\n",
       "      <th>OvenProductsInQueue</th>\n",
       "      <th>OrdersInOven</th>\n",
       "      <th>OrdersReadyForDispatch</th>\n",
       "      <th>DriversClockedIn</th>\n",
       "      <th>DriversOnTheWay</th>\n",
       "      <th>ClockedInEmployees</th>\n",
       "      <th>ReceivedTimestamp</th>\n",
       "      <th>CompletedTimestamp</th>\n",
       "      <th>OriginalEstimatedDrivingTimeSeconds</th>\n",
       "      <th>EstimatedOrderCompletionTime</th>\n",
       "      <th>ActualOrderCompletionTime</th>\n",
       "    </tr>\n",
       "  </thead>\n",
       "  <tbody>\n",
       "    <tr>\n",
       "      <th>0</th>\n",
       "      <td>0</td>\n",
       "      <td>152</td>\n",
       "      <td>6.99</td>\n",
       "      <td>2</td>\n",
       "      <td>0</td>\n",
       "      <td>0</td>\n",
       "      <td>0</td>\n",
       "      <td>0</td>\n",
       "      <td>0</td>\n",
       "      <td>0</td>\n",
       "      <td>0</td>\n",
       "      <td>2018-06-01 13:35:32</td>\n",
       "      <td>2018-06-01 13:42:23</td>\n",
       "      <td>-1.0</td>\n",
       "      <td>808.0</td>\n",
       "      <td>411.0</td>\n",
       "    </tr>\n",
       "    <tr>\n",
       "      <th>1</th>\n",
       "      <td>1</td>\n",
       "      <td>152</td>\n",
       "      <td>6.99</td>\n",
       "      <td>2</td>\n",
       "      <td>1</td>\n",
       "      <td>1</td>\n",
       "      <td>0</td>\n",
       "      <td>0</td>\n",
       "      <td>0</td>\n",
       "      <td>0</td>\n",
       "      <td>0</td>\n",
       "      <td>2018-06-01 13:35:49</td>\n",
       "      <td>2018-06-01 13:42:23</td>\n",
       "      <td>-1.0</td>\n",
       "      <td>791.0</td>\n",
       "      <td>394.0</td>\n",
       "    </tr>\n",
       "    <tr>\n",
       "      <th>2</th>\n",
       "      <td>2</td>\n",
       "      <td>152</td>\n",
       "      <td>5.95</td>\n",
       "      <td>2</td>\n",
       "      <td>0</td>\n",
       "      <td>0</td>\n",
       "      <td>0</td>\n",
       "      <td>0</td>\n",
       "      <td>0</td>\n",
       "      <td>0</td>\n",
       "      <td>1</td>\n",
       "      <td>2018-06-01 15:38:37</td>\n",
       "      <td>2018-06-01 15:44:29</td>\n",
       "      <td>-1.0</td>\n",
       "      <td>803.0</td>\n",
       "      <td>352.0</td>\n",
       "    </tr>\n",
       "    <tr>\n",
       "      <th>3</th>\n",
       "      <td>3</td>\n",
       "      <td>152</td>\n",
       "      <td>7.95</td>\n",
       "      <td>2</td>\n",
       "      <td>0</td>\n",
       "      <td>0</td>\n",
       "      <td>0</td>\n",
       "      <td>0</td>\n",
       "      <td>1</td>\n",
       "      <td>0</td>\n",
       "      <td>2</td>\n",
       "      <td>2018-06-01 15:59:15</td>\n",
       "      <td>2018-06-01 16:05:56</td>\n",
       "      <td>-1.0</td>\n",
       "      <td>825.0</td>\n",
       "      <td>401.0</td>\n",
       "    </tr>\n",
       "    <tr>\n",
       "      <th>4</th>\n",
       "      <td>4</td>\n",
       "      <td>152</td>\n",
       "      <td>7.49</td>\n",
       "      <td>2</td>\n",
       "      <td>0</td>\n",
       "      <td>0</td>\n",
       "      <td>1</td>\n",
       "      <td>0</td>\n",
       "      <td>1</td>\n",
       "      <td>0</td>\n",
       "      <td>2</td>\n",
       "      <td>2018-06-01 16:04:14</td>\n",
       "      <td>2018-06-01 16:10:46</td>\n",
       "      <td>-1.0</td>\n",
       "      <td>826.0</td>\n",
       "      <td>392.0</td>\n",
       "    </tr>\n",
       "  </tbody>\n",
       "</table>\n",
       "</div>"
      ],
      "text/plain": [
       "   OrderId  StoreId  OrderPrice  DeliveryType  OrdersInQueue  \\\n",
       "0        0      152        6.99             2              0   \n",
       "1        1      152        6.99             2              1   \n",
       "2        2      152        5.95             2              0   \n",
       "3        3      152        7.95             2              0   \n",
       "4        4      152        7.49             2              0   \n",
       "\n",
       "   OvenProductsInQueue  OrdersInOven  OrdersReadyForDispatch  \\\n",
       "0                    0             0                       0   \n",
       "1                    1             0                       0   \n",
       "2                    0             0                       0   \n",
       "3                    0             0                       0   \n",
       "4                    0             1                       0   \n",
       "\n",
       "   DriversClockedIn  DriversOnTheWay  ClockedInEmployees    ReceivedTimestamp  \\\n",
       "0                 0                0                   0  2018-06-01 13:35:32   \n",
       "1                 0                0                   0  2018-06-01 13:35:49   \n",
       "2                 0                0                   1  2018-06-01 15:38:37   \n",
       "3                 1                0                   2  2018-06-01 15:59:15   \n",
       "4                 1                0                   2  2018-06-01 16:04:14   \n",
       "\n",
       "    CompletedTimestamp  OriginalEstimatedDrivingTimeSeconds  \\\n",
       "0  2018-06-01 13:42:23                                 -1.0   \n",
       "1  2018-06-01 13:42:23                                 -1.0   \n",
       "2  2018-06-01 15:44:29                                 -1.0   \n",
       "3  2018-06-01 16:05:56                                 -1.0   \n",
       "4  2018-06-01 16:10:46                                 -1.0   \n",
       "\n",
       "   EstimatedOrderCompletionTime  ActualOrderCompletionTime  \n",
       "0                         808.0                      411.0  \n",
       "1                         791.0                      394.0  \n",
       "2                         803.0                      352.0  \n",
       "3                         825.0                      401.0  \n",
       "4                         826.0                      392.0  "
      ]
     },
     "execution_count": 3,
     "metadata": {},
     "output_type": "execute_result"
    }
   ],
   "source": [
    "dt_train.head()"
   ]
  },
  {
   "cell_type": "code",
   "execution_count": 4,
   "metadata": {},
   "outputs": [
    {
     "name": "stdout",
     "output_type": "stream",
     "text": [
      "                                OLS Regression Results                               \n",
      "=====================================================================================\n",
      "Dep. Variable:     ActualOrderCompletionTime   R-squared:                       0.095\n",
      "Model:                                   OLS   Adj. R-squared:                  0.095\n",
      "Method:                        Least Squares   F-statistic:                     3280.\n",
      "Date:                       Fri, 16 Oct 2020   Prob (F-statistic):               0.00\n",
      "Time:                               09:31:16   Log-Likelihood:            -2.4896e+06\n",
      "No. Observations:                     281826   AIC:                         4.979e+06\n",
      "Df Residuals:                         281816   BIC:                         4.979e+06\n",
      "Df Model:                                  9                                         \n",
      "Covariance Type:                   nonrobust                                         \n",
      "==========================================================================================\n",
      "                             coef    std err          t      P>|t|      [0.025      0.975]\n",
      "------------------------------------------------------------------------------------------\n",
      "Intercept               1652.6303     11.991    137.828      0.000    1629.129    1676.131\n",
      "OrderPrice                14.8608      0.270     55.095      0.000      14.332      15.389\n",
      "DeliveryType            -278.8855      5.392    -51.724      0.000    -289.453    -268.318\n",
      "OrdersInQueue            115.8042      1.172     98.820      0.000     113.507     118.101\n",
      "OvenProductsInQueue       -0.3288      0.028    -11.805      0.000      -0.383      -0.274\n",
      "OrdersInOven              40.3752      2.609     15.476      0.000      35.262      45.488\n",
      "OrdersReadyForDispatch    67.5315      1.725     39.142      0.000      64.150      70.913\n",
      "DriversClockedIn          -6.8856      2.675     -2.574      0.010     -12.129      -1.643\n",
      "DriversOnTheWay           53.2234      2.093     25.428      0.000      49.121      57.326\n",
      "ClockedInEmployees       -30.2230      2.099    -14.402      0.000     -34.336     -26.110\n",
      "==============================================================================\n",
      "Omnibus:                   404050.598   Durbin-Watson:                   1.992\n",
      "Prob(Omnibus):                  0.000   Jarque-Bera (JB):        186108276.714\n",
      "Skew:                           8.521   Prob(JB):                         0.00\n",
      "Kurtosis:                     127.733   Cond. No.                         671.\n",
      "==============================================================================\n",
      "\n",
      "Warnings:\n",
      "[1] Standard Errors assume that the covariance matrix of the errors is correctly specified.\n"
     ]
    }
   ],
   "source": [
    "model_q1a = smf.ols('ActualOrderCompletionTime ~ OrderPrice + DeliveryType + OrdersInQueue \\\n",
    "                + OvenProductsInQueue + OrdersInOven + OrdersReadyForDispatch + DriversClockedIn \\\n",
    "                + DriversOnTheWay + ClockedInEmployees', data=dt_train).fit()\n",
    "print(model_q1a.summary())"
   ]
  },
  {
   "cell_type": "code",
   "execution_count": 5,
   "metadata": {},
   "outputs": [
    {
     "data": {
      "text/plain": [
       "0         1198.736164\n",
       "1         1314.211540\n",
       "2         1153.057945\n",
       "3         1145.670863\n",
       "4         1179.210113\n",
       "             ...     \n",
       "281835    1072.047996\n",
       "281836    1298.703116\n",
       "281837    1088.173478\n",
       "281838    1365.794295\n",
       "281839    1602.780483\n",
       "Length: 281840, dtype: float64"
      ]
     },
     "execution_count": 5,
     "metadata": {},
     "output_type": "execute_result"
    }
   ],
   "source": [
    "model_q1a.predict(dt_train)"
   ]
  },
  {
   "cell_type": "code",
   "execution_count": 6,
   "metadata": {},
   "outputs": [],
   "source": [
    "predictions_q1a = model_q1a.predict(dt_train)"
   ]
  },
  {
   "cell_type": "code",
   "execution_count": 7,
   "metadata": {},
   "outputs": [],
   "source": [
    "dt_train['Predicted_ActualOrderCompletionTime'] = predictions_q1a"
   ]
  },
  {
   "cell_type": "code",
   "execution_count": 8,
   "metadata": {},
   "outputs": [
    {
     "data": {
      "text/html": [
       "<div>\n",
       "<style scoped>\n",
       "    .dataframe tbody tr th:only-of-type {\n",
       "        vertical-align: middle;\n",
       "    }\n",
       "\n",
       "    .dataframe tbody tr th {\n",
       "        vertical-align: top;\n",
       "    }\n",
       "\n",
       "    .dataframe thead th {\n",
       "        text-align: right;\n",
       "    }\n",
       "</style>\n",
       "<table border=\"1\" class=\"dataframe\">\n",
       "  <thead>\n",
       "    <tr style=\"text-align: right;\">\n",
       "      <th></th>\n",
       "      <th>ActualOrderCompletionTime</th>\n",
       "      <th>Predicted_ActualOrderCompletionTime</th>\n",
       "    </tr>\n",
       "  </thead>\n",
       "  <tbody>\n",
       "    <tr>\n",
       "      <th>0</th>\n",
       "      <td>411.0</td>\n",
       "      <td>1198.736164</td>\n",
       "    </tr>\n",
       "    <tr>\n",
       "      <th>1</th>\n",
       "      <td>394.0</td>\n",
       "      <td>1314.211540</td>\n",
       "    </tr>\n",
       "    <tr>\n",
       "      <th>2</th>\n",
       "      <td>352.0</td>\n",
       "      <td>1153.057945</td>\n",
       "    </tr>\n",
       "    <tr>\n",
       "      <th>3</th>\n",
       "      <td>401.0</td>\n",
       "      <td>1145.670863</td>\n",
       "    </tr>\n",
       "    <tr>\n",
       "      <th>4</th>\n",
       "      <td>392.0</td>\n",
       "      <td>1179.210113</td>\n",
       "    </tr>\n",
       "  </tbody>\n",
       "</table>\n",
       "</div>"
      ],
      "text/plain": [
       "   ActualOrderCompletionTime  Predicted_ActualOrderCompletionTime\n",
       "0                      411.0                          1198.736164\n",
       "1                      394.0                          1314.211540\n",
       "2                      352.0                          1153.057945\n",
       "3                      401.0                          1145.670863\n",
       "4                      392.0                          1179.210113"
      ]
     },
     "execution_count": 8,
     "metadata": {},
     "output_type": "execute_result"
    }
   ],
   "source": [
    "dt_train[[\"ActualOrderCompletionTime\", \"Predicted_ActualOrderCompletionTime\"]].head()"
   ]
  },
  {
   "cell_type": "code",
   "execution_count": 10,
   "metadata": {},
   "outputs": [],
   "source": [
    "dt_train[\"error\"] = dt_train[\"ActualOrderCompletionTime\"] - dt_train[\"Predicted_ActualOrderCompletionTime\"]"
   ]
  },
  {
   "cell_type": "code",
   "execution_count": 11,
   "metadata": {},
   "outputs": [
    {
     "data": {
      "text/html": [
       "<div>\n",
       "<style scoped>\n",
       "    .dataframe tbody tr th:only-of-type {\n",
       "        vertical-align: middle;\n",
       "    }\n",
       "\n",
       "    .dataframe tbody tr th {\n",
       "        vertical-align: top;\n",
       "    }\n",
       "\n",
       "    .dataframe thead th {\n",
       "        text-align: right;\n",
       "    }\n",
       "</style>\n",
       "<table border=\"1\" class=\"dataframe\">\n",
       "  <thead>\n",
       "    <tr style=\"text-align: right;\">\n",
       "      <th></th>\n",
       "      <th>ActualOrderCompletionTime</th>\n",
       "      <th>Predicted_ActualOrderCompletionTime</th>\n",
       "      <th>error</th>\n",
       "    </tr>\n",
       "  </thead>\n",
       "  <tbody>\n",
       "    <tr>\n",
       "      <th>0</th>\n",
       "      <td>411.0</td>\n",
       "      <td>1198.736164</td>\n",
       "      <td>-787.736164</td>\n",
       "    </tr>\n",
       "    <tr>\n",
       "      <th>1</th>\n",
       "      <td>394.0</td>\n",
       "      <td>1314.211540</td>\n",
       "      <td>-920.211540</td>\n",
       "    </tr>\n",
       "    <tr>\n",
       "      <th>2</th>\n",
       "      <td>352.0</td>\n",
       "      <td>1153.057945</td>\n",
       "      <td>-801.057945</td>\n",
       "    </tr>\n",
       "    <tr>\n",
       "      <th>3</th>\n",
       "      <td>401.0</td>\n",
       "      <td>1145.670863</td>\n",
       "      <td>-744.670863</td>\n",
       "    </tr>\n",
       "    <tr>\n",
       "      <th>4</th>\n",
       "      <td>392.0</td>\n",
       "      <td>1179.210113</td>\n",
       "      <td>-787.210113</td>\n",
       "    </tr>\n",
       "  </tbody>\n",
       "</table>\n",
       "</div>"
      ],
      "text/plain": [
       "   ActualOrderCompletionTime  Predicted_ActualOrderCompletionTime       error\n",
       "0                      411.0                          1198.736164 -787.736164\n",
       "1                      394.0                          1314.211540 -920.211540\n",
       "2                      352.0                          1153.057945 -801.057945\n",
       "3                      401.0                          1145.670863 -744.670863\n",
       "4                      392.0                          1179.210113 -787.210113"
      ]
     },
     "execution_count": 11,
     "metadata": {},
     "output_type": "execute_result"
    }
   ],
   "source": [
    "dt_train[[\"ActualOrderCompletionTime\", \"Predicted_ActualOrderCompletionTime\", \"error\"]].head()"
   ]
  },
  {
   "cell_type": "code",
   "execution_count": 12,
   "metadata": {},
   "outputs": [],
   "source": [
    "dt_train[\"error_abs\"] = np.abs(dt_train[\"error\"])"
   ]
  },
  {
   "cell_type": "code",
   "execution_count": 13,
   "metadata": {},
   "outputs": [
    {
     "data": {
      "text/html": [
       "<div>\n",
       "<style scoped>\n",
       "    .dataframe tbody tr th:only-of-type {\n",
       "        vertical-align: middle;\n",
       "    }\n",
       "\n",
       "    .dataframe tbody tr th {\n",
       "        vertical-align: top;\n",
       "    }\n",
       "\n",
       "    .dataframe thead th {\n",
       "        text-align: right;\n",
       "    }\n",
       "</style>\n",
       "<table border=\"1\" class=\"dataframe\">\n",
       "  <thead>\n",
       "    <tr style=\"text-align: right;\">\n",
       "      <th></th>\n",
       "      <th>ActualOrderCompletionTime</th>\n",
       "      <th>Predicted_ActualOrderCompletionTime</th>\n",
       "      <th>error</th>\n",
       "      <th>error_abs</th>\n",
       "    </tr>\n",
       "  </thead>\n",
       "  <tbody>\n",
       "    <tr>\n",
       "      <th>0</th>\n",
       "      <td>411.0</td>\n",
       "      <td>1198.736164</td>\n",
       "      <td>-787.736164</td>\n",
       "      <td>787.736164</td>\n",
       "    </tr>\n",
       "    <tr>\n",
       "      <th>1</th>\n",
       "      <td>394.0</td>\n",
       "      <td>1314.211540</td>\n",
       "      <td>-920.211540</td>\n",
       "      <td>920.211540</td>\n",
       "    </tr>\n",
       "    <tr>\n",
       "      <th>2</th>\n",
       "      <td>352.0</td>\n",
       "      <td>1153.057945</td>\n",
       "      <td>-801.057945</td>\n",
       "      <td>801.057945</td>\n",
       "    </tr>\n",
       "    <tr>\n",
       "      <th>3</th>\n",
       "      <td>401.0</td>\n",
       "      <td>1145.670863</td>\n",
       "      <td>-744.670863</td>\n",
       "      <td>744.670863</td>\n",
       "    </tr>\n",
       "    <tr>\n",
       "      <th>4</th>\n",
       "      <td>392.0</td>\n",
       "      <td>1179.210113</td>\n",
       "      <td>-787.210113</td>\n",
       "      <td>787.210113</td>\n",
       "    </tr>\n",
       "  </tbody>\n",
       "</table>\n",
       "</div>"
      ],
      "text/plain": [
       "   ActualOrderCompletionTime  Predicted_ActualOrderCompletionTime       error  \\\n",
       "0                      411.0                          1198.736164 -787.736164   \n",
       "1                      394.0                          1314.211540 -920.211540   \n",
       "2                      352.0                          1153.057945 -801.057945   \n",
       "3                      401.0                          1145.670863 -744.670863   \n",
       "4                      392.0                          1179.210113 -787.210113   \n",
       "\n",
       "    error_abs  \n",
       "0  787.736164  \n",
       "1  920.211540  \n",
       "2  801.057945  \n",
       "3  744.670863  \n",
       "4  787.210113  "
      ]
     },
     "execution_count": 13,
     "metadata": {},
     "output_type": "execute_result"
    }
   ],
   "source": [
    "dt_train[[\"ActualOrderCompletionTime\", \"Predicted_ActualOrderCompletionTime\", \"error\", \"error_abs\"]].head()"
   ]
  },
  {
   "cell_type": "code",
   "execution_count": 14,
   "metadata": {},
   "outputs": [
    {
     "data": {
      "text/plain": [
       "804.9151964020218"
      ]
     },
     "execution_count": 14,
     "metadata": {},
     "output_type": "execute_result"
    }
   ],
   "source": [
    "dt_train[\"error_abs\"].mean()"
   ]
  },
  {
   "cell_type": "code",
   "execution_count": 15,
   "metadata": {},
   "outputs": [],
   "source": [
    "dt_train[\"error_squared\"] = dt_train[\"error\"]**2"
   ]
  },
  {
   "cell_type": "code",
   "execution_count": 16,
   "metadata": {},
   "outputs": [
    {
     "data": {
      "text/html": [
       "<div>\n",
       "<style scoped>\n",
       "    .dataframe tbody tr th:only-of-type {\n",
       "        vertical-align: middle;\n",
       "    }\n",
       "\n",
       "    .dataframe tbody tr th {\n",
       "        vertical-align: top;\n",
       "    }\n",
       "\n",
       "    .dataframe thead th {\n",
       "        text-align: right;\n",
       "    }\n",
       "</style>\n",
       "<table border=\"1\" class=\"dataframe\">\n",
       "  <thead>\n",
       "    <tr style=\"text-align: right;\">\n",
       "      <th></th>\n",
       "      <th>ActualOrderCompletionTime</th>\n",
       "      <th>Predicted_ActualOrderCompletionTime</th>\n",
       "      <th>error</th>\n",
       "      <th>error_abs</th>\n",
       "      <th>error_squared</th>\n",
       "    </tr>\n",
       "  </thead>\n",
       "  <tbody>\n",
       "    <tr>\n",
       "      <th>0</th>\n",
       "      <td>411.0</td>\n",
       "      <td>1198.736164</td>\n",
       "      <td>-787.736164</td>\n",
       "      <td>787.736164</td>\n",
       "      <td>620528.263411</td>\n",
       "    </tr>\n",
       "    <tr>\n",
       "      <th>1</th>\n",
       "      <td>394.0</td>\n",
       "      <td>1314.211540</td>\n",
       "      <td>-920.211540</td>\n",
       "      <td>920.211540</td>\n",
       "      <td>846789.277788</td>\n",
       "    </tr>\n",
       "    <tr>\n",
       "      <th>2</th>\n",
       "      <td>352.0</td>\n",
       "      <td>1153.057945</td>\n",
       "      <td>-801.057945</td>\n",
       "      <td>801.057945</td>\n",
       "      <td>641693.831469</td>\n",
       "    </tr>\n",
       "    <tr>\n",
       "      <th>3</th>\n",
       "      <td>401.0</td>\n",
       "      <td>1145.670863</td>\n",
       "      <td>-744.670863</td>\n",
       "      <td>744.670863</td>\n",
       "      <td>554534.694463</td>\n",
       "    </tr>\n",
       "    <tr>\n",
       "      <th>4</th>\n",
       "      <td>392.0</td>\n",
       "      <td>1179.210113</td>\n",
       "      <td>-787.210113</td>\n",
       "      <td>787.210113</td>\n",
       "      <td>619699.762722</td>\n",
       "    </tr>\n",
       "  </tbody>\n",
       "</table>\n",
       "</div>"
      ],
      "text/plain": [
       "   ActualOrderCompletionTime  Predicted_ActualOrderCompletionTime       error  \\\n",
       "0                      411.0                          1198.736164 -787.736164   \n",
       "1                      394.0                          1314.211540 -920.211540   \n",
       "2                      352.0                          1153.057945 -801.057945   \n",
       "3                      401.0                          1145.670863 -744.670863   \n",
       "4                      392.0                          1179.210113 -787.210113   \n",
       "\n",
       "    error_abs  error_squared  \n",
       "0  787.736164  620528.263411  \n",
       "1  920.211540  846789.277788  \n",
       "2  801.057945  641693.831469  \n",
       "3  744.670863  554534.694463  \n",
       "4  787.210113  619699.762722  "
      ]
     },
     "execution_count": 16,
     "metadata": {},
     "output_type": "execute_result"
    }
   ],
   "source": [
    "dt_train[[\"ActualOrderCompletionTime\", \"Predicted_ActualOrderCompletionTime\", \"error\", \"error_abs\", \"error_squared\"]].head()"
   ]
  },
  {
   "cell_type": "code",
   "execution_count": 17,
   "metadata": {},
   "outputs": [
    {
     "data": {
      "text/plain": [
       "2757156.8079742217"
      ]
     },
     "execution_count": 17,
     "metadata": {},
     "output_type": "execute_result"
    }
   ],
   "source": [
    "dt_train[\"error_squared\"].mean()"
   ]
  },
  {
   "cell_type": "code",
   "execution_count": 18,
   "metadata": {},
   "outputs": [
    {
     "data": {
      "text/plain": [
       "1660.4688518530606"
      ]
     },
     "execution_count": 18,
     "metadata": {},
     "output_type": "execute_result"
    }
   ],
   "source": [
    "np.sqrt(dt_train[\"error_squared\"].mean())"
   ]
  },
  {
   "cell_type": "code",
   "execution_count": 19,
   "metadata": {},
   "outputs": [],
   "source": [
    "dt_train[\"error2\"] = dt_train[\"ActualOrderCompletionTime\"] - dt_train[\"EstimatedOrderCompletionTime\"]"
   ]
  },
  {
   "cell_type": "code",
   "execution_count": 20,
   "metadata": {},
   "outputs": [
    {
     "data": {
      "text/html": [
       "<div>\n",
       "<style scoped>\n",
       "    .dataframe tbody tr th:only-of-type {\n",
       "        vertical-align: middle;\n",
       "    }\n",
       "\n",
       "    .dataframe tbody tr th {\n",
       "        vertical-align: top;\n",
       "    }\n",
       "\n",
       "    .dataframe thead th {\n",
       "        text-align: right;\n",
       "    }\n",
       "</style>\n",
       "<table border=\"1\" class=\"dataframe\">\n",
       "  <thead>\n",
       "    <tr style=\"text-align: right;\">\n",
       "      <th></th>\n",
       "      <th>ActualOrderCompletionTime</th>\n",
       "      <th>EstimatedOrderCompletionTime</th>\n",
       "      <th>error2</th>\n",
       "    </tr>\n",
       "  </thead>\n",
       "  <tbody>\n",
       "    <tr>\n",
       "      <th>0</th>\n",
       "      <td>411.0</td>\n",
       "      <td>808.0</td>\n",
       "      <td>-397.0</td>\n",
       "    </tr>\n",
       "    <tr>\n",
       "      <th>1</th>\n",
       "      <td>394.0</td>\n",
       "      <td>791.0</td>\n",
       "      <td>-397.0</td>\n",
       "    </tr>\n",
       "    <tr>\n",
       "      <th>2</th>\n",
       "      <td>352.0</td>\n",
       "      <td>803.0</td>\n",
       "      <td>-451.0</td>\n",
       "    </tr>\n",
       "    <tr>\n",
       "      <th>3</th>\n",
       "      <td>401.0</td>\n",
       "      <td>825.0</td>\n",
       "      <td>-424.0</td>\n",
       "    </tr>\n",
       "    <tr>\n",
       "      <th>4</th>\n",
       "      <td>392.0</td>\n",
       "      <td>826.0</td>\n",
       "      <td>-434.0</td>\n",
       "    </tr>\n",
       "  </tbody>\n",
       "</table>\n",
       "</div>"
      ],
      "text/plain": [
       "   ActualOrderCompletionTime  EstimatedOrderCompletionTime  error2\n",
       "0                      411.0                         808.0  -397.0\n",
       "1                      394.0                         791.0  -397.0\n",
       "2                      352.0                         803.0  -451.0\n",
       "3                      401.0                         825.0  -424.0\n",
       "4                      392.0                         826.0  -434.0"
      ]
     },
     "execution_count": 20,
     "metadata": {},
     "output_type": "execute_result"
    }
   ],
   "source": [
    "dt_train[[\"ActualOrderCompletionTime\", \"EstimatedOrderCompletionTime\", \"error2\"]].head()"
   ]
  },
  {
   "cell_type": "code",
   "execution_count": 21,
   "metadata": {},
   "outputs": [],
   "source": [
    "dt_train[\"error2_abs\"] = np.abs(dt_train[\"error2\"])"
   ]
  },
  {
   "cell_type": "code",
   "execution_count": 22,
   "metadata": {},
   "outputs": [
    {
     "data": {
      "text/plain": [
       "730.797438845245"
      ]
     },
     "execution_count": 22,
     "metadata": {},
     "output_type": "execute_result"
    }
   ],
   "source": [
    "dt_train[\"error2_abs\"].mean()"
   ]
  },
  {
   "cell_type": "code",
   "execution_count": 23,
   "metadata": {},
   "outputs": [],
   "source": [
    "dt_train[\"error2_squared\"] = dt_train[\"error2\"]**2"
   ]
  },
  {
   "cell_type": "code",
   "execution_count": 24,
   "metadata": {},
   "outputs": [
    {
     "data": {
      "text/plain": [
       "1710.3329185807993"
      ]
     },
     "execution_count": 24,
     "metadata": {},
     "output_type": "execute_result"
    }
   ],
   "source": [
    "np.sqrt(dt_train[\"error2_squared\"].mean())"
   ]
  },
  {
   "cell_type": "code",
   "execution_count": 25,
   "metadata": {},
   "outputs": [
    {
     "data": {
      "text/html": [
       "<div>\n",
       "<style scoped>\n",
       "    .dataframe tbody tr th:only-of-type {\n",
       "        vertical-align: middle;\n",
       "    }\n",
       "\n",
       "    .dataframe tbody tr th {\n",
       "        vertical-align: top;\n",
       "    }\n",
       "\n",
       "    .dataframe thead th {\n",
       "        text-align: right;\n",
       "    }\n",
       "</style>\n",
       "<table border=\"1\" class=\"dataframe\">\n",
       "  <thead>\n",
       "    <tr style=\"text-align: right;\">\n",
       "      <th></th>\n",
       "      <th>ActualOrderCompletionTime</th>\n",
       "      <th>EstimatedOrderCompletionTime</th>\n",
       "      <th>error2</th>\n",
       "      <th>error2_abs</th>\n",
       "      <th>error2_squared</th>\n",
       "    </tr>\n",
       "  </thead>\n",
       "  <tbody>\n",
       "    <tr>\n",
       "      <th>0</th>\n",
       "      <td>411.0</td>\n",
       "      <td>808.0</td>\n",
       "      <td>-397.0</td>\n",
       "      <td>397.0</td>\n",
       "      <td>157609.0</td>\n",
       "    </tr>\n",
       "    <tr>\n",
       "      <th>1</th>\n",
       "      <td>394.0</td>\n",
       "      <td>791.0</td>\n",
       "      <td>-397.0</td>\n",
       "      <td>397.0</td>\n",
       "      <td>157609.0</td>\n",
       "    </tr>\n",
       "    <tr>\n",
       "      <th>2</th>\n",
       "      <td>352.0</td>\n",
       "      <td>803.0</td>\n",
       "      <td>-451.0</td>\n",
       "      <td>451.0</td>\n",
       "      <td>203401.0</td>\n",
       "    </tr>\n",
       "    <tr>\n",
       "      <th>3</th>\n",
       "      <td>401.0</td>\n",
       "      <td>825.0</td>\n",
       "      <td>-424.0</td>\n",
       "      <td>424.0</td>\n",
       "      <td>179776.0</td>\n",
       "    </tr>\n",
       "    <tr>\n",
       "      <th>4</th>\n",
       "      <td>392.0</td>\n",
       "      <td>826.0</td>\n",
       "      <td>-434.0</td>\n",
       "      <td>434.0</td>\n",
       "      <td>188356.0</td>\n",
       "    </tr>\n",
       "  </tbody>\n",
       "</table>\n",
       "</div>"
      ],
      "text/plain": [
       "   ActualOrderCompletionTime  EstimatedOrderCompletionTime  error2  \\\n",
       "0                      411.0                         808.0  -397.0   \n",
       "1                      394.0                         791.0  -397.0   \n",
       "2                      352.0                         803.0  -451.0   \n",
       "3                      401.0                         825.0  -424.0   \n",
       "4                      392.0                         826.0  -434.0   \n",
       "\n",
       "   error2_abs  error2_squared  \n",
       "0       397.0        157609.0  \n",
       "1       397.0        157609.0  \n",
       "2       451.0        203401.0  \n",
       "3       424.0        179776.0  \n",
       "4       434.0        188356.0  "
      ]
     },
     "execution_count": 25,
     "metadata": {},
     "output_type": "execute_result"
    }
   ],
   "source": [
    "dt_train[[\"ActualOrderCompletionTime\", \"EstimatedOrderCompletionTime\", \"error2\", \"error2_abs\", \"error2_squared\"]].head()"
   ]
  },
  {
   "cell_type": "code",
   "execution_count": 26,
   "metadata": {},
   "outputs": [
    {
     "data": {
      "text/html": [
       "<div>\n",
       "<style scoped>\n",
       "    .dataframe tbody tr th:only-of-type {\n",
       "        vertical-align: middle;\n",
       "    }\n",
       "\n",
       "    .dataframe tbody tr th {\n",
       "        vertical-align: top;\n",
       "    }\n",
       "\n",
       "    .dataframe thead th {\n",
       "        text-align: right;\n",
       "    }\n",
       "</style>\n",
       "<table border=\"1\" class=\"dataframe\">\n",
       "  <thead>\n",
       "    <tr style=\"text-align: right;\">\n",
       "      <th></th>\n",
       "      <th>error_abs</th>\n",
       "      <th>error2_abs</th>\n",
       "    </tr>\n",
       "  </thead>\n",
       "  <tbody>\n",
       "    <tr>\n",
       "      <th>0</th>\n",
       "      <td>787.736164</td>\n",
       "      <td>397.0</td>\n",
       "    </tr>\n",
       "    <tr>\n",
       "      <th>1</th>\n",
       "      <td>920.211540</td>\n",
       "      <td>397.0</td>\n",
       "    </tr>\n",
       "    <tr>\n",
       "      <th>2</th>\n",
       "      <td>801.057945</td>\n",
       "      <td>451.0</td>\n",
       "    </tr>\n",
       "    <tr>\n",
       "      <th>3</th>\n",
       "      <td>744.670863</td>\n",
       "      <td>424.0</td>\n",
       "    </tr>\n",
       "    <tr>\n",
       "      <th>4</th>\n",
       "      <td>787.210113</td>\n",
       "      <td>434.0</td>\n",
       "    </tr>\n",
       "    <tr>\n",
       "      <th>5</th>\n",
       "      <td>1441.303343</td>\n",
       "      <td>1282.0</td>\n",
       "    </tr>\n",
       "    <tr>\n",
       "      <th>6</th>\n",
       "      <td>213.116851</td>\n",
       "      <td>417.0</td>\n",
       "    </tr>\n",
       "    <tr>\n",
       "      <th>7</th>\n",
       "      <td>407.062453</td>\n",
       "      <td>506.0</td>\n",
       "    </tr>\n",
       "    <tr>\n",
       "      <th>8</th>\n",
       "      <td>575.907720</td>\n",
       "      <td>688.0</td>\n",
       "    </tr>\n",
       "    <tr>\n",
       "      <th>9</th>\n",
       "      <td>416.550730</td>\n",
       "      <td>270.0</td>\n",
       "    </tr>\n",
       "  </tbody>\n",
       "</table>\n",
       "</div>"
      ],
      "text/plain": [
       "     error_abs  error2_abs\n",
       "0   787.736164       397.0\n",
       "1   920.211540       397.0\n",
       "2   801.057945       451.0\n",
       "3   744.670863       424.0\n",
       "4   787.210113       434.0\n",
       "5  1441.303343      1282.0\n",
       "6   213.116851       417.0\n",
       "7   407.062453       506.0\n",
       "8   575.907720       688.0\n",
       "9   416.550730       270.0"
      ]
     },
     "execution_count": 26,
     "metadata": {},
     "output_type": "execute_result"
    }
   ],
   "source": [
    "dt_train[[\"error_abs\", \"error2_abs\"]].iloc[:10]"
   ]
  },
  {
   "cell_type": "code",
   "execution_count": 27,
   "metadata": {},
   "outputs": [],
   "source": [
    "data_fit = dt_train[dt_train[\"ReceivedTimestamp\"]<\"2018-09-01 00:00:00\"]"
   ]
  },
  {
   "cell_type": "code",
   "execution_count": 28,
   "metadata": {},
   "outputs": [],
   "source": [
    "data_val_fit = dt_train[dt_train[\"ReceivedTimestamp\"]>=\"2018-09-01 00:00:00\"]"
   ]
  },
  {
   "cell_type": "code",
   "execution_count": 29,
   "metadata": {},
   "outputs": [
    {
     "data": {
      "text/plain": [
       "0    2018-06-01 13:35:32\n",
       "1    2018-06-01 13:35:49\n",
       "2    2018-06-01 15:38:37\n",
       "3    2018-06-01 15:59:15\n",
       "4    2018-06-01 16:04:14\n",
       "Name: ReceivedTimestamp, dtype: object"
      ]
     },
     "execution_count": 29,
     "metadata": {},
     "output_type": "execute_result"
    }
   ],
   "source": [
    "data_fit[\"ReceivedTimestamp\"].head()"
   ]
  },
  {
   "cell_type": "code",
   "execution_count": 30,
   "metadata": {},
   "outputs": [
    {
     "data": {
      "text/plain": [
       "182701    2018-09-01 12:01:14\n",
       "182702    2018-09-01 12:27:16\n",
       "182703    2018-09-01 12:28:19\n",
       "182704    2018-09-01 12:28:23\n",
       "182705    2018-09-01 12:38:30\n",
       "Name: ReceivedTimestamp, dtype: object"
      ]
     },
     "execution_count": 30,
     "metadata": {},
     "output_type": "execute_result"
    }
   ],
   "source": [
    "data_val_fit[\"ReceivedTimestamp\"].head()"
   ]
  },
  {
   "cell_type": "code",
   "execution_count": 32,
   "metadata": {},
   "outputs": [
    {
     "name": "stdout",
     "output_type": "stream",
     "text": [
      "                                OLS Regression Results                               \n",
      "=====================================================================================\n",
      "Dep. Variable:     ActualOrderCompletionTime   R-squared:                       0.110\n",
      "Model:                                   OLS   Adj. R-squared:                  0.110\n",
      "Method:                        Least Squares   F-statistic:                     2508.\n",
      "Date:                       Fri, 16 Oct 2020   Prob (F-statistic):               0.00\n",
      "Time:                               09:36:17   Log-Likelihood:            -1.5916e+06\n",
      "No. Observations:                     182687   AIC:                         3.183e+06\n",
      "Df Residuals:                         182677   BIC:                         3.183e+06\n",
      "Df Model:                                  9                                         \n",
      "Covariance Type:                   nonrobust                                         \n",
      "==========================================================================================\n",
      "                             coef    std err          t      P>|t|      [0.025      0.975]\n",
      "------------------------------------------------------------------------------------------\n",
      "Intercept               1898.4775     13.628    139.309      0.000    1871.767    1925.188\n",
      "OrderPrice                14.9923      0.317     47.314      0.000      14.371      15.613\n",
      "DeliveryType            -471.5807      6.183    -76.272      0.000    -483.699    -459.462\n",
      "OrdersInQueue            103.1061      1.471     70.078      0.000     100.222     105.990\n",
      "OvenProductsInQueue       -0.4309      0.040    -10.819      0.000      -0.509      -0.353\n",
      "OrdersInOven              43.8492      2.927     14.979      0.000      38.112      49.587\n",
      "OrdersReadyForDispatch    67.8665      1.918     35.382      0.000      64.107      71.626\n",
      "DriversClockedIn           3.8950      3.004      1.297      0.195      -1.992       9.782\n",
      "DriversOnTheWay           52.4797      2.355     22.282      0.000      47.864      57.096\n",
      "ClockedInEmployees       -36.8396      2.304    -15.987      0.000     -41.356     -32.323\n",
      "==============================================================================\n",
      "Omnibus:                   277207.406   Durbin-Watson:                   1.995\n",
      "Prob(Omnibus):                  0.000   Jarque-Bera (JB):        183742871.231\n",
      "Skew:                           9.412   Prob(JB):                         0.00\n",
      "Kurtosis:                     157.222   Cond. No.                         525.\n",
      "==============================================================================\n",
      "\n",
      "Warnings:\n",
      "[1] Standard Errors assume that the covariance matrix of the errors is correctly specified.\n"
     ]
    }
   ],
   "source": [
    "model_q1b = smf.ols('ActualOrderCompletionTime ~ OrderPrice + DeliveryType + OrdersInQueue \\\n",
    "                + OvenProductsInQueue + OrdersInOven + OrdersReadyForDispatch + DriversClockedIn \\\n",
    "                + DriversOnTheWay + ClockedInEmployees', data=data_fit).fit()\n",
    "print(model_q1b.summary())"
   ]
  },
  {
   "cell_type": "code",
   "execution_count": 33,
   "metadata": {},
   "outputs": [],
   "source": [
    "predictions_q1b = model_q1b.predict(data_val_fit)"
   ]
  },
  {
   "cell_type": "code",
   "execution_count": 35,
   "metadata": {},
   "outputs": [],
   "source": [
    "data_val_fit[\"predictions_q1b\"] = predictions_q1b\n",
    "data_val_fit[\"error_q1b\"] = data_val_fit[\"ActualOrderCompletionTime\"] - data_val_fit[\"predictions_q1b\"]\n",
    "data_val_fit[\"error_q1b_abs\"] = np.abs(data_val_fit[\"error_q1b\"])"
   ]
  },
  {
   "cell_type": "code",
   "execution_count": 36,
   "metadata": {},
   "outputs": [
    {
     "data": {
      "text/plain": [
       "860.4710086511535"
      ]
     },
     "execution_count": 36,
     "metadata": {},
     "output_type": "execute_result"
    }
   ],
   "source": [
    "data_val_fit[\"error_q1b_abs\"].mean()"
   ]
  },
  {
   "cell_type": "code",
   "execution_count": 37,
   "metadata": {},
   "outputs": [],
   "source": [
    "data_val_fit[\"error_q1b_sqr\"] = data_val_fit[\"error_q1b\"]**2"
   ]
  },
  {
   "cell_type": "code",
   "execution_count": 38,
   "metadata": {},
   "outputs": [
    {
     "data": {
      "text/plain": [
       "1976.9166229034124"
      ]
     },
     "execution_count": 38,
     "metadata": {},
     "output_type": "execute_result"
    }
   ],
   "source": [
    "np.sqrt(data_val_fit[\"error_q1b_sqr\"].mean())"
   ]
  },
  {
   "cell_type": "code",
   "execution_count": 39,
   "metadata": {},
   "outputs": [
    {
     "data": {
      "text/plain": [
       "832.3758964685946"
      ]
     },
     "execution_count": 39,
     "metadata": {},
     "output_type": "execute_result"
    }
   ],
   "source": [
    "data_val_fit[\"error2_abs\"].mean()"
   ]
  },
  {
   "cell_type": "code",
   "execution_count": 40,
   "metadata": {},
   "outputs": [
    {
     "data": {
      "text/plain": [
       "2049.375258846716"
      ]
     },
     "execution_count": 40,
     "metadata": {},
     "output_type": "execute_result"
    }
   ],
   "source": [
    "np.sqrt(data_val_fit[\"error2_squared\"].mean())"
   ]
  },
  {
   "cell_type": "code",
   "execution_count": 41,
   "metadata": {},
   "outputs": [],
   "source": [
    "# removed DriversClockedIn\n",
    "model_q2 = smf.ols('ActualOrderCompletionTime ~ OrderPrice + DeliveryType + OrdersInQueue + \\\n",
    "                    OvenProductsInQueue + OrdersInOven + OrdersReadyForDispatch + \\\n",
    "                    DriversOnTheWay + ClockedInEmployees', data=data_fit).fit()"
   ]
  },
  {
   "cell_type": "code",
   "execution_count": 42,
   "metadata": {},
   "outputs": [
    {
     "name": "stdout",
     "output_type": "stream",
     "text": [
      "860.1997825822372 1976.8750850551191\n"
     ]
    }
   ],
   "source": [
    "predictions_q2 = model_q2.predict(data_val_fit)\n",
    "data_val_fit[\"predictions_q2\"] = predictions_q2\n",
    "data_val_fit[\"error_q2\"] = data_val_fit[\"ActualOrderCompletionTime\"] - data_val_fit[\"predictions_q2\"]\n",
    "data_val_fit[\"error_q2_abs\"] = np.abs(data_val_fit[\"error_q2\"])\n",
    "data_val_fit[\"error_q2_sqr\"] = data_val_fit[\"error_q2\"] ** 2\n",
    "print(data_val_fit[\"error_q2_abs\"].mean(), np.sqrt(data_val_fit[\"error_q2_sqr\"].mean()))"
   ]
  },
  {
   "cell_type": "code",
   "execution_count": 43,
   "metadata": {},
   "outputs": [],
   "source": [
    "# removed DriversClockedIn\n",
    "# removed ClockedInEmployees\n",
    "model_q2 = smf.ols('ActualOrderCompletionTime ~ OrderPrice + DeliveryType + OrdersInQueue + \\\n",
    "                    OvenProductsInQueue + OrdersInOven + OrdersReadyForDispatch + \\\n",
    "                    DriversOnTheWay', data=data_fit).fit()\n"
   ]
  },
  {
   "cell_type": "code",
   "execution_count": 44,
   "metadata": {},
   "outputs": [
    {
     "name": "stdout",
     "output_type": "stream",
     "text": [
      "866.0295202150039 1978.5869077854143\n"
     ]
    }
   ],
   "source": [
    "predictions_q2 = model_q2.predict(data_val_fit)\n",
    "data_val_fit[\"predictions_q2\"] = predictions_q2\n",
    "data_val_fit[\"error_q2\"] = data_val_fit[\"ActualOrderCompletionTime\"] - data_val_fit[\"predictions_q2\"]\n",
    "data_val_fit[\"error_q2_abs\"] = np.abs(data_val_fit[\"error_q2\"])\n",
    "data_val_fit[\"error_q2_sqr\"] = data_val_fit[\"error_q2\"] ** 2\n",
    "print(data_val_fit[\"error_q2_abs\"].mean(), np.sqrt(data_val_fit[\"error_q2_sqr\"].mean()))"
   ]
  },
  {
   "cell_type": "code",
   "execution_count": 45,
   "metadata": {},
   "outputs": [
    {
     "data": {
      "text/plain": [
       "182701    2\n",
       "182702    2\n",
       "182703    2\n",
       "182704    2\n",
       "182705    1\n",
       "Name: DeliveryType, dtype: int64"
      ]
     },
     "execution_count": 45,
     "metadata": {},
     "output_type": "execute_result"
    }
   ],
   "source": [
    "# change delivery type\n",
    "data_val_fit[\"DeliveryType\"].head()"
   ]
  },
  {
   "cell_type": "code",
   "execution_count": 46,
   "metadata": {},
   "outputs": [],
   "source": [
    "data_fit[\"DeliveryType_str\"] = data_fit[\"DeliveryType\"].astype(str)\n",
    "data_val_fit[\"DeliveryType_str\"] = data_val_fit[\"DeliveryType\"].astype(str)"
   ]
  },
  {
   "cell_type": "code",
   "execution_count": 47,
   "metadata": {},
   "outputs": [
    {
     "data": {
      "text/plain": [
       "182701    2\n",
       "182702    2\n",
       "182703    2\n",
       "182704    2\n",
       "182705    1\n",
       "Name: DeliveryType_str, dtype: object"
      ]
     },
     "execution_count": 47,
     "metadata": {},
     "output_type": "execute_result"
    }
   ],
   "source": [
    "data_val_fit[\"DeliveryType_str\"].head()"
   ]
  },
  {
   "cell_type": "code",
   "execution_count": 48,
   "metadata": {},
   "outputs": [
    {
     "name": "stdout",
     "output_type": "stream",
     "text": [
      "757.9195869062963 1779.6212868493747\n"
     ]
    }
   ],
   "source": [
    "# removed DriversClockedIn\n",
    "# Bring back ClockedInEmployees\n",
    "# change delivery type to string\n",
    "model_q2 = smf.ols('ActualOrderCompletionTime ~ OrderPrice + DeliveryType_str + OrdersInQueue + \\\n",
    "                    OvenProductsInQueue + OrdersInOven + OrdersReadyForDispatch + \\\n",
    "                    DriversOnTheWay + ClockedInEmployees', data=data_fit).fit()\n",
    "\n",
    "predictions_q2 = model_q2.predict(data_val_fit)\n",
    "data_val_fit[\"predictions_q2\"] = predictions_q2\n",
    "data_val_fit[\"error_q2\"] = data_val_fit[\"ActualOrderCompletionTime\"] - data_val_fit[\"predictions_q2\"]\n",
    "data_val_fit[\"error_q2_abs\"] = np.abs(data_val_fit[\"error_q2\"])\n",
    "data_val_fit[\"error_q2_sqr\"] = data_val_fit[\"error_q2\"] ** 2\n",
    "print(data_val_fit[\"error_q2_abs\"].mean(), np.sqrt(data_val_fit[\"error_q2_sqr\"].mean()))"
   ]
  },
  {
   "cell_type": "code",
   "execution_count": 49,
   "metadata": {},
   "outputs": [
    {
     "data": {
      "text/plain": [
       "182701     43\n",
       "182702     43\n",
       "182703    123\n",
       "182704     34\n",
       "182705     44\n",
       "Name: StoreId, dtype: int64"
      ]
     },
     "execution_count": 49,
     "metadata": {},
     "output_type": "execute_result"
    }
   ],
   "source": [
    "data_val_fit[\"StoreId\"].head()"
   ]
  },
  {
   "cell_type": "code",
   "execution_count": 50,
   "metadata": {},
   "outputs": [
    {
     "name": "stdout",
     "output_type": "stream",
     "text": [
      "756.7901410757413 1778.422636201378\n"
     ]
    }
   ],
   "source": [
    "# removed DriversClockedIn\n",
    "# Bring back ClockedInEmployees\n",
    "# change delivery type to string\n",
    "# Add StoreId\n",
    "model_q2 = smf.ols('ActualOrderCompletionTime ~ OrderPrice + DeliveryType_str + OrdersInQueue + \\\n",
    "                    OvenProductsInQueue + OrdersInOven + OrdersReadyForDispatch + \\\n",
    "                    DriversOnTheWay + ClockedInEmployees + StoreId', data=data_fit).fit()\n",
    "\n",
    "predictions_q2 = model_q2.predict(data_val_fit)\n",
    "data_val_fit[\"predictions_q2\"] = predictions_q2\n",
    "data_val_fit[\"error_q2\"] = data_val_fit[\"ActualOrderCompletionTime\"] - data_val_fit[\"predictions_q2\"]\n",
    "data_val_fit[\"error_q2_abs\"] = np.abs(data_val_fit[\"error_q2\"])\n",
    "data_val_fit[\"error_q2_sqr\"] = data_val_fit[\"error_q2\"] ** 2\n",
    "print(data_val_fit[\"error_q2_abs\"].mean(), np.sqrt(data_val_fit[\"error_q2_sqr\"].mean()))"
   ]
  },
  {
   "cell_type": "code",
   "execution_count": 51,
   "metadata": {},
   "outputs": [],
   "source": [
    "data_fit[\"StoreId_str\"] = data_fit[\"StoreId\"].astype(str)\n",
    "data_val_fit[\"StoreId_str\"] = data_val_fit[\"StoreId\"].astype(str)"
   ]
  },
  {
   "cell_type": "code",
   "execution_count": 52,
   "metadata": {},
   "outputs": [
    {
     "name": "stdout",
     "output_type": "stream",
     "text": [
      "744.7206043162257 1764.9266204862774\n"
     ]
    }
   ],
   "source": [
    "# removed DriversClockedIn\n",
    "# Bring back ClockedInEmployees\n",
    "# change delivery type to string\n",
    "# Add StoreId, changed to string \n",
    "\n",
    "model_q2 = smf.ols('ActualOrderCompletionTime ~ OrderPrice + DeliveryType_str + OrdersInQueue + \\\n",
    "                    OvenProductsInQueue + OrdersInOven + OrdersReadyForDispatch + \\\n",
    "                    DriversOnTheWay + ClockedInEmployees + StoreId_str', data=data_fit).fit()\n",
    "\n",
    "predictions_q2 = model_q2.predict(data_val_fit)\n",
    "data_val_fit[\"predictions_q2\"] = predictions_q2\n",
    "data_val_fit[\"error_q2\"] = data_val_fit[\"ActualOrderCompletionTime\"] - data_val_fit[\"predictions_q2\"]\n",
    "data_val_fit[\"error_q2_abs\"] = np.abs(data_val_fit[\"error_q2\"])\n",
    "data_val_fit[\"error_q2_sqr\"] = data_val_fit[\"error_q2\"] ** 2\n",
    "print(data_val_fit[\"error_q2_abs\"].mean(), np.sqrt(data_val_fit[\"error_q2_sqr\"].mean()))"
   ]
  },
  {
   "cell_type": "code",
   "execution_count": 54,
   "metadata": {
    "scrolled": true
   },
   "outputs": [
    {
     "data": {
      "text/html": [
       "<div>\n",
       "<style scoped>\n",
       "    .dataframe tbody tr th:only-of-type {\n",
       "        vertical-align: middle;\n",
       "    }\n",
       "\n",
       "    .dataframe tbody tr th {\n",
       "        vertical-align: top;\n",
       "    }\n",
       "\n",
       "    .dataframe thead th {\n",
       "        text-align: right;\n",
       "    }\n",
       "</style>\n",
       "<table border=\"1\" class=\"dataframe\">\n",
       "  <thead>\n",
       "    <tr style=\"text-align: right;\">\n",
       "      <th></th>\n",
       "      <th>OrderId</th>\n",
       "      <th>StoreId</th>\n",
       "      <th>OrderPrice</th>\n",
       "      <th>DeliveryType</th>\n",
       "      <th>OrdersInQueue</th>\n",
       "      <th>OvenProductsInQueue</th>\n",
       "      <th>OrdersInOven</th>\n",
       "      <th>OrdersReadyForDispatch</th>\n",
       "      <th>DriversClockedIn</th>\n",
       "      <th>DriversOnTheWay</th>\n",
       "      <th>...</th>\n",
       "      <th>ActualOrderCompletionTime</th>\n",
       "      <th>Predicted_ActualOrderCompletionTime</th>\n",
       "      <th>error</th>\n",
       "      <th>error_abs</th>\n",
       "      <th>error_squared</th>\n",
       "      <th>error2</th>\n",
       "      <th>error2_abs</th>\n",
       "      <th>error2_squared</th>\n",
       "      <th>DeliveryType_str</th>\n",
       "      <th>StoreId_str</th>\n",
       "    </tr>\n",
       "  </thead>\n",
       "  <tbody>\n",
       "    <tr>\n",
       "      <th>0</th>\n",
       "      <td>0</td>\n",
       "      <td>152</td>\n",
       "      <td>6.990</td>\n",
       "      <td>2</td>\n",
       "      <td>0</td>\n",
       "      <td>0</td>\n",
       "      <td>0</td>\n",
       "      <td>0</td>\n",
       "      <td>0</td>\n",
       "      <td>0</td>\n",
       "      <td>...</td>\n",
       "      <td>411.0</td>\n",
       "      <td>1198.736164</td>\n",
       "      <td>-787.736164</td>\n",
       "      <td>787.736164</td>\n",
       "      <td>6.205283e+05</td>\n",
       "      <td>-397.0</td>\n",
       "      <td>397.0</td>\n",
       "      <td>157609.0</td>\n",
       "      <td>2</td>\n",
       "      <td>152</td>\n",
       "    </tr>\n",
       "    <tr>\n",
       "      <th>1</th>\n",
       "      <td>1</td>\n",
       "      <td>152</td>\n",
       "      <td>6.990</td>\n",
       "      <td>2</td>\n",
       "      <td>1</td>\n",
       "      <td>1</td>\n",
       "      <td>0</td>\n",
       "      <td>0</td>\n",
       "      <td>0</td>\n",
       "      <td>0</td>\n",
       "      <td>...</td>\n",
       "      <td>394.0</td>\n",
       "      <td>1314.211540</td>\n",
       "      <td>-920.211540</td>\n",
       "      <td>920.211540</td>\n",
       "      <td>8.467893e+05</td>\n",
       "      <td>-397.0</td>\n",
       "      <td>397.0</td>\n",
       "      <td>157609.0</td>\n",
       "      <td>2</td>\n",
       "      <td>152</td>\n",
       "    </tr>\n",
       "    <tr>\n",
       "      <th>2</th>\n",
       "      <td>2</td>\n",
       "      <td>152</td>\n",
       "      <td>5.950</td>\n",
       "      <td>2</td>\n",
       "      <td>0</td>\n",
       "      <td>0</td>\n",
       "      <td>0</td>\n",
       "      <td>0</td>\n",
       "      <td>0</td>\n",
       "      <td>0</td>\n",
       "      <td>...</td>\n",
       "      <td>352.0</td>\n",
       "      <td>1153.057945</td>\n",
       "      <td>-801.057945</td>\n",
       "      <td>801.057945</td>\n",
       "      <td>6.416938e+05</td>\n",
       "      <td>-451.0</td>\n",
       "      <td>451.0</td>\n",
       "      <td>203401.0</td>\n",
       "      <td>2</td>\n",
       "      <td>152</td>\n",
       "    </tr>\n",
       "    <tr>\n",
       "      <th>3</th>\n",
       "      <td>3</td>\n",
       "      <td>152</td>\n",
       "      <td>7.950</td>\n",
       "      <td>2</td>\n",
       "      <td>0</td>\n",
       "      <td>0</td>\n",
       "      <td>0</td>\n",
       "      <td>0</td>\n",
       "      <td>1</td>\n",
       "      <td>0</td>\n",
       "      <td>...</td>\n",
       "      <td>401.0</td>\n",
       "      <td>1145.670863</td>\n",
       "      <td>-744.670863</td>\n",
       "      <td>744.670863</td>\n",
       "      <td>5.545347e+05</td>\n",
       "      <td>-424.0</td>\n",
       "      <td>424.0</td>\n",
       "      <td>179776.0</td>\n",
       "      <td>2</td>\n",
       "      <td>152</td>\n",
       "    </tr>\n",
       "    <tr>\n",
       "      <th>4</th>\n",
       "      <td>4</td>\n",
       "      <td>152</td>\n",
       "      <td>7.490</td>\n",
       "      <td>2</td>\n",
       "      <td>0</td>\n",
       "      <td>0</td>\n",
       "      <td>1</td>\n",
       "      <td>0</td>\n",
       "      <td>1</td>\n",
       "      <td>0</td>\n",
       "      <td>...</td>\n",
       "      <td>392.0</td>\n",
       "      <td>1179.210113</td>\n",
       "      <td>-787.210113</td>\n",
       "      <td>787.210113</td>\n",
       "      <td>6.196998e+05</td>\n",
       "      <td>-434.0</td>\n",
       "      <td>434.0</td>\n",
       "      <td>188356.0</td>\n",
       "      <td>2</td>\n",
       "      <td>152</td>\n",
       "    </tr>\n",
       "    <tr>\n",
       "      <th>5</th>\n",
       "      <td>5</td>\n",
       "      <td>36</td>\n",
       "      <td>22.980</td>\n",
       "      <td>1</td>\n",
       "      <td>0</td>\n",
       "      <td>0</td>\n",
       "      <td>0</td>\n",
       "      <td>0</td>\n",
       "      <td>3</td>\n",
       "      <td>0</td>\n",
       "      <td>...</td>\n",
       "      <td>3015.0</td>\n",
       "      <td>1573.696657</td>\n",
       "      <td>1441.303343</td>\n",
       "      <td>1441.303343</td>\n",
       "      <td>2.077355e+06</td>\n",
       "      <td>1282.0</td>\n",
       "      <td>1282.0</td>\n",
       "      <td>1643524.0</td>\n",
       "      <td>1</td>\n",
       "      <td>36</td>\n",
       "    </tr>\n",
       "    <tr>\n",
       "      <th>6</th>\n",
       "      <td>6</td>\n",
       "      <td>113</td>\n",
       "      <td>14.986</td>\n",
       "      <td>1</td>\n",
       "      <td>0</td>\n",
       "      <td>0</td>\n",
       "      <td>0</td>\n",
       "      <td>0</td>\n",
       "      <td>1</td>\n",
       "      <td>0</td>\n",
       "      <td>...</td>\n",
       "      <td>1316.0</td>\n",
       "      <td>1529.116851</td>\n",
       "      <td>-213.116851</td>\n",
       "      <td>213.116851</td>\n",
       "      <td>4.541879e+04</td>\n",
       "      <td>-417.0</td>\n",
       "      <td>417.0</td>\n",
       "      <td>173889.0</td>\n",
       "      <td>1</td>\n",
       "      <td>113</td>\n",
       "    </tr>\n",
       "    <tr>\n",
       "      <th>7</th>\n",
       "      <td>7</td>\n",
       "      <td>163</td>\n",
       "      <td>13.490</td>\n",
       "      <td>1</td>\n",
       "      <td>0</td>\n",
       "      <td>0</td>\n",
       "      <td>0</td>\n",
       "      <td>2</td>\n",
       "      <td>2</td>\n",
       "      <td>0</td>\n",
       "      <td>...</td>\n",
       "      <td>1228.0</td>\n",
       "      <td>1635.062453</td>\n",
       "      <td>-407.062453</td>\n",
       "      <td>407.062453</td>\n",
       "      <td>1.656998e+05</td>\n",
       "      <td>-506.0</td>\n",
       "      <td>506.0</td>\n",
       "      <td>256036.0</td>\n",
       "      <td>1</td>\n",
       "      <td>163</td>\n",
       "    </tr>\n",
       "    <tr>\n",
       "      <th>8</th>\n",
       "      <td>8</td>\n",
       "      <td>36</td>\n",
       "      <td>31.430</td>\n",
       "      <td>1</td>\n",
       "      <td>0</td>\n",
       "      <td>0</td>\n",
       "      <td>1</td>\n",
       "      <td>0</td>\n",
       "      <td>3</td>\n",
       "      <td>2</td>\n",
       "      <td>...</td>\n",
       "      <td>2422.0</td>\n",
       "      <td>1846.092280</td>\n",
       "      <td>575.907720</td>\n",
       "      <td>575.907720</td>\n",
       "      <td>3.316697e+05</td>\n",
       "      <td>688.0</td>\n",
       "      <td>688.0</td>\n",
       "      <td>473344.0</td>\n",
       "      <td>1</td>\n",
       "      <td>36</td>\n",
       "    </tr>\n",
       "    <tr>\n",
       "      <th>9</th>\n",
       "      <td>9</td>\n",
       "      <td>57</td>\n",
       "      <td>30.470</td>\n",
       "      <td>1</td>\n",
       "      <td>0</td>\n",
       "      <td>0</td>\n",
       "      <td>0</td>\n",
       "      <td>0</td>\n",
       "      <td>4</td>\n",
       "      <td>0</td>\n",
       "      <td>...</td>\n",
       "      <td>2004.0</td>\n",
       "      <td>1587.449270</td>\n",
       "      <td>416.550730</td>\n",
       "      <td>416.550730</td>\n",
       "      <td>1.735145e+05</td>\n",
       "      <td>270.0</td>\n",
       "      <td>270.0</td>\n",
       "      <td>72900.0</td>\n",
       "      <td>1</td>\n",
       "      <td>57</td>\n",
       "    </tr>\n",
       "  </tbody>\n",
       "</table>\n",
       "<p>10 rows × 25 columns</p>\n",
       "</div>"
      ],
      "text/plain": [
       "   OrderId  StoreId  OrderPrice  DeliveryType  OrdersInQueue  \\\n",
       "0        0      152       6.990             2              0   \n",
       "1        1      152       6.990             2              1   \n",
       "2        2      152       5.950             2              0   \n",
       "3        3      152       7.950             2              0   \n",
       "4        4      152       7.490             2              0   \n",
       "5        5       36      22.980             1              0   \n",
       "6        6      113      14.986             1              0   \n",
       "7        7      163      13.490             1              0   \n",
       "8        8       36      31.430             1              0   \n",
       "9        9       57      30.470             1              0   \n",
       "\n",
       "   OvenProductsInQueue  OrdersInOven  OrdersReadyForDispatch  \\\n",
       "0                    0             0                       0   \n",
       "1                    1             0                       0   \n",
       "2                    0             0                       0   \n",
       "3                    0             0                       0   \n",
       "4                    0             1                       0   \n",
       "5                    0             0                       0   \n",
       "6                    0             0                       0   \n",
       "7                    0             0                       2   \n",
       "8                    0             1                       0   \n",
       "9                    0             0                       0   \n",
       "\n",
       "   DriversClockedIn  DriversOnTheWay  ...  ActualOrderCompletionTime  \\\n",
       "0                 0                0  ...                      411.0   \n",
       "1                 0                0  ...                      394.0   \n",
       "2                 0                0  ...                      352.0   \n",
       "3                 1                0  ...                      401.0   \n",
       "4                 1                0  ...                      392.0   \n",
       "5                 3                0  ...                     3015.0   \n",
       "6                 1                0  ...                     1316.0   \n",
       "7                 2                0  ...                     1228.0   \n",
       "8                 3                2  ...                     2422.0   \n",
       "9                 4                0  ...                     2004.0   \n",
       "\n",
       "  Predicted_ActualOrderCompletionTime        error    error_abs  \\\n",
       "0                         1198.736164  -787.736164   787.736164   \n",
       "1                         1314.211540  -920.211540   920.211540   \n",
       "2                         1153.057945  -801.057945   801.057945   \n",
       "3                         1145.670863  -744.670863   744.670863   \n",
       "4                         1179.210113  -787.210113   787.210113   \n",
       "5                         1573.696657  1441.303343  1441.303343   \n",
       "6                         1529.116851  -213.116851   213.116851   \n",
       "7                         1635.062453  -407.062453   407.062453   \n",
       "8                         1846.092280   575.907720   575.907720   \n",
       "9                         1587.449270   416.550730   416.550730   \n",
       "\n",
       "   error_squared  error2  error2_abs  error2_squared  DeliveryType_str  \\\n",
       "0   6.205283e+05  -397.0       397.0        157609.0                 2   \n",
       "1   8.467893e+05  -397.0       397.0        157609.0                 2   \n",
       "2   6.416938e+05  -451.0       451.0        203401.0                 2   \n",
       "3   5.545347e+05  -424.0       424.0        179776.0                 2   \n",
       "4   6.196998e+05  -434.0       434.0        188356.0                 2   \n",
       "5   2.077355e+06  1282.0      1282.0       1643524.0                 1   \n",
       "6   4.541879e+04  -417.0       417.0        173889.0                 1   \n",
       "7   1.656998e+05  -506.0       506.0        256036.0                 1   \n",
       "8   3.316697e+05   688.0       688.0        473344.0                 1   \n",
       "9   1.735145e+05   270.0       270.0         72900.0                 1   \n",
       "\n",
       "   StoreId_str  \n",
       "0          152  \n",
       "1          152  \n",
       "2          152  \n",
       "3          152  \n",
       "4          152  \n",
       "5           36  \n",
       "6          113  \n",
       "7          163  \n",
       "8           36  \n",
       "9           57  \n",
       "\n",
       "[10 rows x 25 columns]"
      ]
     },
     "execution_count": 54,
     "metadata": {},
     "output_type": "execute_result"
    }
   ],
   "source": [
    "data_fit.iloc[:10]"
   ]
  },
  {
   "cell_type": "code",
   "execution_count": 57,
   "metadata": {},
   "outputs": [
    {
     "data": {
      "text/plain": [
       "182701    0\n",
       "182702    0\n",
       "182703    0\n",
       "182704    0\n",
       "182705    0\n",
       "Name: OrdersInQueue, dtype: int64"
      ]
     },
     "execution_count": 57,
     "metadata": {},
     "output_type": "execute_result"
    }
   ],
   "source": [
    "data_val_fit[\"OrdersInQueue\"].head()"
   ]
  },
  {
   "cell_type": "code",
   "execution_count": 65,
   "metadata": {},
   "outputs": [
    {
     "data": {
      "text/plain": [
       "count    99139.000000\n",
       "mean         2.708369\n",
       "std          4.474664\n",
       "min          0.000000\n",
       "25%          0.000000\n",
       "50%          1.000000\n",
       "75%          3.000000\n",
       "max         55.000000\n",
       "Name: OrdersInQueue, dtype: float64"
      ]
     },
     "execution_count": 65,
     "metadata": {},
     "output_type": "execute_result"
    }
   ],
   "source": [
    "data_val_fit[\"OrdersInQueue\"].describe()"
   ]
  },
  {
   "cell_type": "code",
   "execution_count": 90,
   "metadata": {},
   "outputs": [],
   "source": [
    "data_fit[\"OrdersInQueue_plus1\"] = data_fit[\"OrdersInQueue\"] + 1"
   ]
  },
  {
   "cell_type": "code",
   "execution_count": 91,
   "metadata": {},
   "outputs": [
    {
     "data": {
      "text/plain": [
       "0    1\n",
       "1    2\n",
       "2    1\n",
       "3    1\n",
       "4    1\n",
       "Name: OrdersInQueue_plus1, dtype: int64"
      ]
     },
     "execution_count": 91,
     "metadata": {},
     "output_type": "execute_result"
    }
   ],
   "source": [
    "data_fit[\"OrdersInQueue_plus1\"].head()"
   ]
  },
  {
   "cell_type": "code",
   "execution_count": 92,
   "metadata": {
    "scrolled": true
   },
   "outputs": [
    {
     "data": {
      "text/plain": [
       "0    0\n",
       "1    1\n",
       "2    0\n",
       "3    0\n",
       "4    0\n",
       "Name: OrdersInQueue, dtype: int64"
      ]
     },
     "execution_count": 92,
     "metadata": {},
     "output_type": "execute_result"
    }
   ],
   "source": [
    "data_fit[\"OrdersInQueue\"].head()"
   ]
  },
  {
   "cell_type": "code",
   "execution_count": 93,
   "metadata": {},
   "outputs": [],
   "source": [
    "data_val_fit[\"OrdersInQueue_plus1\"] = data_val_fit[\"OrdersInQueue\"]"
   ]
  },
  {
   "cell_type": "code",
   "execution_count": 94,
   "metadata": {},
   "outputs": [
    {
     "name": "stdout",
     "output_type": "stream",
     "text": [
      "739.6144300202058 1771.1725712372577\n"
     ]
    }
   ],
   "source": [
    "# removed DriversClockedIn\n",
    "# Bring back ClockedInEmployees\n",
    "# change delivery type to string\n",
    "# Add StoreId, changed to string \n",
    "# Add number 1 to OrdersInQueue\n",
    "\n",
    "model_q2 = smf.ols('ActualOrderCompletionTime ~ OrderPrice + DeliveryType_str + OrdersInQueue_plus1 + \\\n",
    "                    OvenProductsInQueue + OrdersInOven + OrdersReadyForDispatch + \\\n",
    "                    DriversOnTheWay + ClockedInEmployees + StoreId_str', data=data_fit).fit()\n",
    "\n",
    "predictions_q2 = model_q2.predict(data_val_fit)\n",
    "data_val_fit[\"predictions_q2\"] = predictions_q2\n",
    "data_val_fit[\"error_q2\"] = data_val_fit[\"ActualOrderCompletionTime\"] - data_val_fit[\"predictions_q2\"]\n",
    "data_val_fit[\"error_q2_abs\"] = np.abs(data_val_fit[\"error_q2\"])\n",
    "data_val_fit[\"error_q2_sqr\"] = data_val_fit[\"error_q2\"] ** 2\n",
    "print(data_val_fit[\"error_q2_abs\"].mean(), np.sqrt(data_val_fit[\"error_q2_sqr\"].mean()))"
   ]
  },
  {
   "cell_type": "code",
   "execution_count": 95,
   "metadata": {},
   "outputs": [
    {
     "name": "stdout",
     "output_type": "stream",
     "text": [
      "                                OLS Regression Results                               \n",
      "=====================================================================================\n",
      "Dep. Variable:     ActualOrderCompletionTime   R-squared:                       0.280\n",
      "Model:                                   OLS   Adj. R-squared:                  0.280\n",
      "Method:                        Least Squares   F-statistic:                     1093.\n",
      "Date:                       Fri, 16 Oct 2020   Prob (F-statistic):               0.00\n",
      "Time:                               11:41:00   Log-Likelihood:            -1.5722e+06\n",
      "No. Observations:                     182687   AIC:                         3.145e+06\n",
      "Df Residuals:                         182621   BIC:                         3.145e+06\n",
      "Df Model:                                 65                                         \n",
      "Covariance Type:                   nonrobust                                         \n",
      "==========================================================================================\n",
      "                             coef    std err          t      P>|t|      [0.025      0.975]\n",
      "------------------------------------------------------------------------------------------\n",
      "Intercept               1717.3189     35.272     48.688      0.000    1648.187    1786.451\n",
      "DeliveryType_str[T.2]  -1504.4558      7.780   -193.377      0.000   -1519.704   -1489.207\n",
      "DeliveryType_str[T.3]    783.1141     14.181     55.222      0.000     755.319     810.909\n",
      "StoreId_str[T.113]       121.8692     36.764      3.315      0.001      49.813     193.925\n",
      "StoreId_str[T.121]       122.9727     43.291      2.841      0.005      38.124     207.821\n",
      "StoreId_str[T.123]       150.3539     43.492      3.457      0.001      65.111     235.597\n",
      "StoreId_str[T.126]       632.0725     38.178     16.556      0.000     557.244     706.901\n",
      "StoreId_str[T.130]       -46.3569     44.261     -1.047      0.295    -133.108      40.395\n",
      "StoreId_str[T.133]       550.6679     59.094      9.318      0.000     434.845     666.491\n",
      "StoreId_str[T.138]       107.5488     78.179      1.376      0.169     -45.681     260.778\n",
      "StoreId_str[T.141]       -21.1224     37.889     -0.557      0.577     -95.385      53.140\n",
      "StoreId_str[T.15]        402.0508     37.376     10.757      0.000     328.795     475.307\n",
      "StoreId_str[T.150]      -108.7004     49.148     -2.212      0.027    -205.030     -12.371\n",
      "StoreId_str[T.151]      -246.4868     40.689     -6.058      0.000    -326.236    -166.738\n",
      "StoreId_str[T.152]      -236.0938     36.831     -6.410      0.000    -308.281    -163.907\n",
      "StoreId_str[T.153]       181.2211     41.205      4.398      0.000     100.459     261.983\n",
      "StoreId_str[T.154]      -123.3259     37.694     -3.272      0.001    -197.205     -49.447\n",
      "StoreId_str[T.156]      -203.3048     42.700     -4.761      0.000    -286.996    -119.613\n",
      "StoreId_str[T.158]       -22.9913     73.268     -0.314      0.754    -166.595     120.612\n",
      "StoreId_str[T.159]         7.7835     68.695      0.113      0.910    -126.857     142.424\n",
      "StoreId_str[T.16]        260.0497     37.921      6.858      0.000     185.726     334.373\n",
      "StoreId_str[T.160]        46.8947     88.530      0.530      0.596    -126.623     220.412\n",
      "StoreId_str[T.162]      -201.3015     99.428     -2.025      0.043    -396.178      -6.425\n",
      "StoreId_str[T.163]       -42.6853     38.535     -1.108      0.268    -118.213      32.843\n",
      "StoreId_str[T.164]        47.5556     39.123      1.216      0.224     -29.124     124.235\n",
      "StoreId_str[T.170]      -475.8976     42.852    -11.106      0.000    -559.886    -391.909\n",
      "StoreId_str[T.171]       -39.6534     46.299     -0.856      0.392    -130.398      51.092\n",
      "StoreId_str[T.176]        25.4478     55.285      0.460      0.645     -82.910     133.805\n",
      "StoreId_str[T.177]        85.7411     58.365      1.469      0.142     -28.653     200.135\n",
      "StoreId_str[T.182]       183.0090     99.154      1.846      0.065     -11.331     377.349\n",
      "StoreId_str[T.183]       289.8778     38.278      7.573      0.000     214.855     364.901\n",
      "StoreId_str[T.184]       280.9498     44.891      6.259      0.000     192.965     368.935\n",
      "StoreId_str[T.187]      -254.6511     38.284     -6.652      0.000    -329.686    -179.616\n",
      "StoreId_str[T.19]       -233.9234     39.673     -5.896      0.000    -311.681    -156.166\n",
      "StoreId_str[T.193]       -63.3163     71.206     -0.889      0.374    -202.878      76.246\n",
      "StoreId_str[T.194]       125.8993     45.975      2.738      0.006      35.790     216.009\n",
      "StoreId_str[T.22]        195.3173     39.809      4.906      0.000     117.292     273.342\n",
      "StoreId_str[T.23]        237.1250     43.931      5.398      0.000     151.021     323.229\n",
      "StoreId_str[T.31]        102.1017    157.459      0.648      0.517    -206.514     410.718\n",
      "StoreId_str[T.32]         12.4304     37.811      0.329      0.742     -61.679      86.540\n",
      "StoreId_str[T.34]        136.7394     40.225      3.399      0.001      57.899     215.580\n",
      "StoreId_str[T.36]        121.8529     36.537      3.335      0.001      50.242     193.464\n",
      "StoreId_str[T.38]       -215.8679     46.877     -4.605      0.000    -307.747    -123.989\n",
      "StoreId_str[T.42]        148.3211     46.709      3.175      0.001      56.772     239.871\n",
      "StoreId_str[T.43]        145.7525     75.430      1.932      0.053      -2.088     293.593\n",
      "StoreId_str[T.44]       -156.5376     42.663     -3.669      0.000    -240.157     -72.919\n",
      "StoreId_str[T.46]       -530.8420     40.577    -13.082      0.000    -610.371    -451.313\n",
      "StoreId_str[T.47]         72.6541     36.507      1.990      0.047       1.102     144.206\n",
      "StoreId_str[T.53]        472.1203    132.194      3.571      0.000     213.022     731.218\n",
      "StoreId_str[T.57]         94.8296     36.005      2.634      0.008      24.261     165.398\n",
      "StoreId_str[T.59]        -76.6557     39.390     -1.946      0.052    -153.859       0.547\n",
      "StoreId_str[T.63]        221.2217     46.670      4.740      0.000     129.750     312.693\n",
      "StoreId_str[T.64]         -2.6246     50.805     -0.052      0.959    -102.201      96.952\n",
      "StoreId_str[T.71]        222.7971     36.784      6.057      0.000     150.701     294.894\n",
      "StoreId_str[T.73]        154.6410     42.088      3.674      0.000      72.150     237.132\n",
      "StoreId_str[T.75]       -152.9298     41.812     -3.658      0.000    -234.881     -70.978\n",
      "StoreId_str[T.80]         59.1696     36.381      1.626      0.104     -12.137     130.476\n",
      "StoreId_str[T.89]        117.6228     58.154      2.023      0.043       3.642     231.604\n",
      "StoreId_str[T.93]         76.0632     45.775      1.662      0.097     -13.655     165.781\n",
      "OrderPrice                 7.1988      0.289     24.923      0.000       6.633       7.765\n",
      "OrdersInQueue_plus1      101.8425      1.358     74.995      0.000      99.181     104.504\n",
      "OvenProductsInQueue       -0.3875      0.036    -10.692      0.000      -0.458      -0.316\n",
      "OrdersInOven              34.6404      2.675     12.951      0.000      29.398      39.883\n",
      "OrdersReadyForDispatch    61.4103      1.758     34.924      0.000      57.964      64.857\n",
      "DriversOnTheWay           18.5078      2.246      8.242      0.000      14.106      22.909\n",
      "ClockedInEmployees       -39.8714      1.352    -29.493      0.000     -42.521     -37.222\n",
      "==============================================================================\n",
      "Omnibus:                   285996.456   Durbin-Watson:                   2.002\n",
      "Prob(Omnibus):                  0.000   Jarque-Bera (JB):        252136169.049\n",
      "Skew:                           9.920   Prob(JB):                         0.00\n",
      "Kurtosis:                     183.915   Cond. No.                     1.04e+04\n",
      "==============================================================================\n",
      "\n",
      "Warnings:\n",
      "[1] Standard Errors assume that the covariance matrix of the errors is correctly specified.\n",
      "[2] The condition number is large, 1.04e+04. This might indicate that there are\n",
      "strong multicollinearity or other numerical problems.\n"
     ]
    }
   ],
   "source": [
    "print(model_q2.summary())"
   ]
  },
  {
   "cell_type": "code",
   "execution_count": 97,
   "metadata": {},
   "outputs": [],
   "source": [
    "dt_test = pd.read_csv(\"data_test.csv\")"
   ]
  },
  {
   "cell_type": "code",
   "execution_count": 98,
   "metadata": {},
   "outputs": [
    {
     "data": {
      "text/html": [
       "<div>\n",
       "<style scoped>\n",
       "    .dataframe tbody tr th:only-of-type {\n",
       "        vertical-align: middle;\n",
       "    }\n",
       "\n",
       "    .dataframe tbody tr th {\n",
       "        vertical-align: top;\n",
       "    }\n",
       "\n",
       "    .dataframe thead th {\n",
       "        text-align: right;\n",
       "    }\n",
       "</style>\n",
       "<table border=\"1\" class=\"dataframe\">\n",
       "  <thead>\n",
       "    <tr style=\"text-align: right;\">\n",
       "      <th></th>\n",
       "      <th>OrderId</th>\n",
       "      <th>StoreId</th>\n",
       "      <th>OrderPrice</th>\n",
       "      <th>DeliveryType</th>\n",
       "      <th>OrdersInQueue</th>\n",
       "      <th>OvenProductsInQueue</th>\n",
       "      <th>OrdersInOven</th>\n",
       "      <th>OrdersReadyForDispatch</th>\n",
       "      <th>DriversClockedIn</th>\n",
       "      <th>DriversOnTheWay</th>\n",
       "      <th>ClockedInEmployees</th>\n",
       "      <th>ReceivedTimestamp</th>\n",
       "      <th>CompletedTimestamp</th>\n",
       "      <th>OriginalEstimatedDrivingTimeSeconds</th>\n",
       "      <th>EstimatedOrderCompletionTime</th>\n",
       "    </tr>\n",
       "  </thead>\n",
       "  <tbody>\n",
       "    <tr>\n",
       "      <th>0</th>\n",
       "      <td>302762</td>\n",
       "      <td>34</td>\n",
       "      <td>3.99</td>\n",
       "      <td>2</td>\n",
       "      <td>2</td>\n",
       "      <td>3</td>\n",
       "      <td>0</td>\n",
       "      <td>0</td>\n",
       "      <td>1</td>\n",
       "      <td>0</td>\n",
       "      <td>1</td>\n",
       "      <td>2018-09-25 11:54:41</td>\n",
       "      <td>2018-09-25 12:10:01</td>\n",
       "      <td>-1.0</td>\n",
       "      <td>799.0</td>\n",
       "    </tr>\n",
       "    <tr>\n",
       "      <th>1</th>\n",
       "      <td>302763</td>\n",
       "      <td>22</td>\n",
       "      <td>10.48</td>\n",
       "      <td>2</td>\n",
       "      <td>0</td>\n",
       "      <td>0</td>\n",
       "      <td>0</td>\n",
       "      <td>0</td>\n",
       "      <td>1</td>\n",
       "      <td>0</td>\n",
       "      <td>2</td>\n",
       "      <td>2018-09-25 12:02:16</td>\n",
       "      <td>2018-09-25 12:08:11</td>\n",
       "      <td>-1.0</td>\n",
       "      <td>824.0</td>\n",
       "    </tr>\n",
       "    <tr>\n",
       "      <th>2</th>\n",
       "      <td>302764</td>\n",
       "      <td>22</td>\n",
       "      <td>3.99</td>\n",
       "      <td>2</td>\n",
       "      <td>1</td>\n",
       "      <td>2</td>\n",
       "      <td>0</td>\n",
       "      <td>0</td>\n",
       "      <td>1</td>\n",
       "      <td>0</td>\n",
       "      <td>2</td>\n",
       "      <td>2018-09-25 12:02:47</td>\n",
       "      <td>2018-09-25 12:08:11</td>\n",
       "      <td>-1.0</td>\n",
       "      <td>793.0</td>\n",
       "    </tr>\n",
       "    <tr>\n",
       "      <th>3</th>\n",
       "      <td>302765</td>\n",
       "      <td>22</td>\n",
       "      <td>3.99</td>\n",
       "      <td>2</td>\n",
       "      <td>2</td>\n",
       "      <td>3</td>\n",
       "      <td>0</td>\n",
       "      <td>0</td>\n",
       "      <td>1</td>\n",
       "      <td>0</td>\n",
       "      <td>2</td>\n",
       "      <td>2018-09-25 12:03:18</td>\n",
       "      <td>2018-09-25 12:08:11</td>\n",
       "      <td>-1.0</td>\n",
       "      <td>822.0</td>\n",
       "    </tr>\n",
       "    <tr>\n",
       "      <th>4</th>\n",
       "      <td>302766</td>\n",
       "      <td>22</td>\n",
       "      <td>3.99</td>\n",
       "      <td>2</td>\n",
       "      <td>0</td>\n",
       "      <td>0</td>\n",
       "      <td>0</td>\n",
       "      <td>0</td>\n",
       "      <td>1</td>\n",
       "      <td>0</td>\n",
       "      <td>2</td>\n",
       "      <td>2018-09-25 12:05:52</td>\n",
       "      <td>2018-09-25 12:10:51</td>\n",
       "      <td>-1.0</td>\n",
       "      <td>788.0</td>\n",
       "    </tr>\n",
       "  </tbody>\n",
       "</table>\n",
       "</div>"
      ],
      "text/plain": [
       "   OrderId  StoreId  OrderPrice  DeliveryType  OrdersInQueue  \\\n",
       "0   302762       34        3.99             2              2   \n",
       "1   302763       22       10.48             2              0   \n",
       "2   302764       22        3.99             2              1   \n",
       "3   302765       22        3.99             2              2   \n",
       "4   302766       22        3.99             2              0   \n",
       "\n",
       "   OvenProductsInQueue  OrdersInOven  OrdersReadyForDispatch  \\\n",
       "0                    3             0                       0   \n",
       "1                    0             0                       0   \n",
       "2                    2             0                       0   \n",
       "3                    3             0                       0   \n",
       "4                    0             0                       0   \n",
       "\n",
       "   DriversClockedIn  DriversOnTheWay  ClockedInEmployees    ReceivedTimestamp  \\\n",
       "0                 1                0                   1  2018-09-25 11:54:41   \n",
       "1                 1                0                   2  2018-09-25 12:02:16   \n",
       "2                 1                0                   2  2018-09-25 12:02:47   \n",
       "3                 1                0                   2  2018-09-25 12:03:18   \n",
       "4                 1                0                   2  2018-09-25 12:05:52   \n",
       "\n",
       "    CompletedTimestamp  OriginalEstimatedDrivingTimeSeconds  \\\n",
       "0  2018-09-25 12:10:01                                 -1.0   \n",
       "1  2018-09-25 12:08:11                                 -1.0   \n",
       "2  2018-09-25 12:08:11                                 -1.0   \n",
       "3  2018-09-25 12:08:11                                 -1.0   \n",
       "4  2018-09-25 12:10:51                                 -1.0   \n",
       "\n",
       "   EstimatedOrderCompletionTime  \n",
       "0                         799.0  \n",
       "1                         824.0  \n",
       "2                         793.0  \n",
       "3                         822.0  \n",
       "4                         788.0  "
      ]
     },
     "execution_count": 98,
     "metadata": {},
     "output_type": "execute_result"
    }
   ],
   "source": [
    "dt_test.head()"
   ]
  },
  {
   "cell_type": "code",
   "execution_count": 99,
   "metadata": {},
   "outputs": [],
   "source": [
    "model_q3 = smf.ols('ActualOrderCompletionTime ~ OrderPrice + DeliveryType + OrdersInQueue + \\\n",
    "OvenProductsInQueue + OrdersInOven + OrdersReadyForDispatch + DriversClockedIn + \\\n",
    "DriversOnTheWay + ClockedInEmployees', data=dt_train).fit()\n",
    "\n",
    "predictions_q3 = model_q3.predict(dt_test)"
   ]
  },
  {
   "cell_type": "code",
   "execution_count": 100,
   "metadata": {},
   "outputs": [],
   "source": [
    "dt_test[\"predictions_q3\"] = predictions_q3"
   ]
  },
  {
   "cell_type": "code",
   "execution_count": 101,
   "metadata": {},
   "outputs": [
    {
     "data": {
      "text/html": [
       "<div>\n",
       "<style scoped>\n",
       "    .dataframe tbody tr th:only-of-type {\n",
       "        vertical-align: middle;\n",
       "    }\n",
       "\n",
       "    .dataframe tbody tr th {\n",
       "        vertical-align: top;\n",
       "    }\n",
       "\n",
       "    .dataframe thead th {\n",
       "        text-align: right;\n",
       "    }\n",
       "</style>\n",
       "<table border=\"1\" class=\"dataframe\">\n",
       "  <thead>\n",
       "    <tr style=\"text-align: right;\">\n",
       "      <th></th>\n",
       "      <th>OrderId</th>\n",
       "      <th>predictions_q3</th>\n",
       "    </tr>\n",
       "  </thead>\n",
       "  <tbody>\n",
       "    <tr>\n",
       "      <th>0</th>\n",
       "      <td>302762</td>\n",
       "      <td>1347.667140</td>\n",
       "    </tr>\n",
       "    <tr>\n",
       "      <th>1</th>\n",
       "      <td>302763</td>\n",
       "      <td>1183.268646</td>\n",
       "    </tr>\n",
       "    <tr>\n",
       "      <th>2</th>\n",
       "      <td>302764</td>\n",
       "      <td>1201.968761</td>\n",
       "    </tr>\n",
       "    <tr>\n",
       "      <th>3</th>\n",
       "      <td>302765</td>\n",
       "      <td>1317.444137</td>\n",
       "    </tr>\n",
       "    <tr>\n",
       "      <th>4</th>\n",
       "      <td>302766</td>\n",
       "      <td>1086.822160</td>\n",
       "    </tr>\n",
       "  </tbody>\n",
       "</table>\n",
       "</div>"
      ],
      "text/plain": [
       "   OrderId  predictions_q3\n",
       "0   302762     1347.667140\n",
       "1   302763     1183.268646\n",
       "2   302764     1201.968761\n",
       "3   302765     1317.444137\n",
       "4   302766     1086.822160"
      ]
     },
     "execution_count": 101,
     "metadata": {},
     "output_type": "execute_result"
    }
   ],
   "source": [
    "dt_test[[\"OrderId\", \"predictions_q3\"]].head()"
   ]
  },
  {
   "cell_type": "code",
   "execution_count": 105,
   "metadata": {},
   "outputs": [],
   "source": [
    "dt_test[[\"OrderId\", \"predictions_q3\"]].to_csv(\"submission_q3.csv\", index=False)"
   ]
  },
  {
   "cell_type": "code",
   "execution_count": null,
   "metadata": {},
   "outputs": [],
   "source": []
  }
 ],
 "metadata": {
  "kernelspec": {
   "display_name": "Python 3",
   "language": "python",
   "name": "python3"
  },
  "language_info": {
   "codemirror_mode": {
    "name": "ipython",
    "version": 3
   },
   "file_extension": ".py",
   "mimetype": "text/x-python",
   "name": "python",
   "nbconvert_exporter": "python",
   "pygments_lexer": "ipython3",
   "version": "3.8.3"
  }
 },
 "nbformat": 4,
 "nbformat_minor": 4
}
